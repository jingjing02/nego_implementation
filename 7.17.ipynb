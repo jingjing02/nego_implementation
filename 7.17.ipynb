{
 "cells": [
  {
   "cell_type": "code",
   "execution_count": 51,
   "metadata": {
    "collapsed": true
   },
   "outputs": [],
   "source": [
    "from __future__ import division, print_function \n",
    "import os\n",
    "import sys\n",
    "import numpy as np\n",
    "import pandas as pd\n",
    "import itertools as it\n",
    "#import math\n",
    "from matplotlib import pyplot as plt\n",
    "import seaborn as sns"
   ]
  },
  {
   "cell_type": "markdown",
   "metadata": {},
   "source": [
    "## This implementation is just for ONE issue over 12 dimensions\n"
   ]
  },
  {
   "cell_type": "markdown",
   "metadata": {
    "collapsed": true
   },
   "source": [
    "## ============== First Part ===============\n",
    "### The following codes are divided into several parts to calculate the agreement level among all experts"
   ]
  },
  {
   "cell_type": "markdown",
   "metadata": {},
   "source": [
    "### 1. As every experts have picked a score for the issue, based on the issue, calculate the preference matrix of all pair of scores for each expert. \n",
    "This is done by comparing the distance of the two scores to the picked one. That is: \n",
    "##### `p(n,m) = 0.5 - (dn - dm)`, \n",
    "where p > 0.5 means prefer n to m, d means `distance = 0.1 * fabs (score_i - score_picked)`"
   ]
  },
  {
   "cell_type": "code",
   "execution_count": 19,
   "metadata": {},
   "outputs": [
    {
     "data": {
      "text/plain": [
       "[0, 1, 2, 3, 4, 5]"
      ]
     },
     "execution_count": 19,
     "metadata": {},
     "output_type": "execute_result"
    }
   ],
   "source": [
    "range(6)"
   ]
  },
  {
   "cell_type": "code",
   "execution_count": 312,
   "metadata": {
    "collapsed": true
   },
   "outputs": [],
   "source": [
    "score_range = range(6)\n",
    "exp_scores = [0,1,4,2,5] "
   ]
  },
  {
   "cell_type": "code",
   "execution_count": 313,
   "metadata": {},
   "outputs": [
    {
     "name": "stdout",
     "output_type": "stream",
     "text": [
      "[array([[ nan,  0.6,  0.7,  0.8,  0.9,  1. ],\n",
      "       [ 0.4,  nan,  0.6,  0.7,  0.8,  0.9],\n",
      "       [ 0.3,  0.4,  nan,  0.6,  0.7,  0.8],\n",
      "       [ 0.2,  0.3,  0.4,  nan,  0.6,  0.7],\n",
      "       [ 0.1,  0.2,  0.3,  0.4,  nan,  0.6],\n",
      "       [ 0. ,  0.1,  0.2,  0.3,  0.4,  nan]]), array([[ nan,  0.4,  0.5,  0.6,  0.7,  0.8],\n",
      "       [ 0.6,  nan,  0.6,  0.7,  0.8,  0.9],\n",
      "       [ 0.5,  0.4,  nan,  0.6,  0.7,  0.8],\n",
      "       [ 0.4,  0.3,  0.4,  nan,  0.6,  0.7],\n",
      "       [ 0.3,  0.2,  0.3,  0.4,  nan,  0.6],\n",
      "       [ 0.2,  0.1,  0.2,  0.3,  0.4,  nan]]), array([[ nan,  0.4,  0.3,  0.2,  0.1,  0.2],\n",
      "       [ 0.6,  nan,  0.4,  0.3,  0.2,  0.3],\n",
      "       [ 0.7,  0.6,  nan,  0.4,  0.3,  0.4],\n",
      "       [ 0.8,  0.7,  0.6,  nan,  0.4,  0.5],\n",
      "       [ 0.9,  0.8,  0.7,  0.6,  nan,  0.6],\n",
      "       [ 0.8,  0.7,  0.6,  0.5,  0.4,  nan]]), array([[ nan,  0.4,  0.3,  0.4,  0.5,  0.6],\n",
      "       [ 0.6,  nan,  0.4,  0.5,  0.6,  0.7],\n",
      "       [ 0.7,  0.6,  nan,  0.6,  0.7,  0.8],\n",
      "       [ 0.6,  0.5,  0.4,  nan,  0.6,  0.7],\n",
      "       [ 0.5,  0.4,  0.3,  0.4,  nan,  0.6],\n",
      "       [ 0.4,  0.3,  0.2,  0.3,  0.4,  nan]]), array([[ nan,  0.4,  0.3,  0.2,  0.1,  0. ],\n",
      "       [ 0.6,  nan,  0.4,  0.3,  0.2,  0.1],\n",
      "       [ 0.7,  0.6,  nan,  0.4,  0.3,  0.2],\n",
      "       [ 0.8,  0.7,  0.6,  nan,  0.4,  0.3],\n",
      "       [ 0.9,  0.8,  0.7,  0.6,  nan,  0.4],\n",
      "       [ 1. ,  0.9,  0.8,  0.7,  0.6,  nan]])]\n"
     ]
    }
   ],
   "source": [
    "# after the five star step, I SHOULD get the database about the chosen score for the issue of every experts\n",
    "pre_list = []\n",
    "for exp in range(len(exp_scores)):\n",
    "    P = np.eye(6) # preference matrix\n",
    "    for n in score_range:\n",
    "        for m in score_range:\n",
    "            #print(n,m)\n",
    "            d_n = np.fabs(0.1 * (n - exp_scores[exp]))\n",
    "            d_m = np.fabs(0.1 * (m - exp_scores[exp]))\n",
    "            P[n,m] = 0.5 - (d_n - d_m)\n",
    "            P[m,m] = np.nan #compare the score with itself is meaningless\n",
    "    #print(P)\n",
    "    pre_list.append(P)\n",
    "print(pre_list)"
   ]
  },
  {
   "cell_type": "markdown",
   "metadata": {
    "collapsed": true
   },
   "source": [
    "### ======== Problem =========\n",
    "### Should I rewrite the code by 'dataFrame' to make the preference array more clear to consult in later step?"
   ]
  },
  {
   "cell_type": "markdown",
   "metadata": {
    "collapsed": true
   },
   "source": [
    "### 2. For every pair of experts ek and eb, evaluate their similarity by calculating the similarity matrix. \n",
    "#### ======    `SM_kb(i,j) = 1 - |p_k(i,j) - p_b(i,j)|`       ======\n",
    "This means for EVERY same pair of scores (eg. 1&4), the two experts MAY have different preference (p_k[1,4] & p_b[1,4]), then their similarity is: \n",
    "#### `SM_kb[1,4] = 1 - |p_k(1,4) - p_b(1,4)| `\n",
    "Note that because `p_k(i,j) = 1 - p_k(j,i)`, we can know that `|p_k(i,j)-p_b(i,j)|`= `|1-p_k(j,i)-1 + p_b(j,i)|` = `|p_b(j,i)-p_k(j,i)|` = `|p_k(j,i)-p_b(j,i)|`. Therefore `SM_kb(i,j)=SM_kb(j,i)`."
   ]
  },
  {
   "cell_type": "code",
   "execution_count": 314,
   "metadata": {},
   "outputs": [
    {
     "name": "stdout",
     "output_type": "stream",
     "text": [
      "15 pairings\n",
      "['Lisa', 'Pam']\n",
      "['Lisa', 'Maurice']\n",
      "['Lisa', 'Richard']\n",
      "['Lisa', 'John']\n",
      "['Lisa', 'Graham']\n",
      "['Pam', 'Maurice']\n",
      "['Pam', 'Richard']\n",
      "['Pam', 'John']\n",
      "['Pam', 'Graham']\n",
      "['Maurice', 'Richard']\n",
      "['Maurice', 'John']\n",
      "['Maurice', 'Graham']\n",
      "['Richard', 'John']\n",
      "['Richard', 'Graham']\n",
      "['John', 'Graham']\n"
     ]
    }
   ],
   "source": [
    "# example about how to pair n elements in a list\n",
    "people = [\"Lisa\",\"Pam\",\"Maurice\",\"Richard\",\"John\",\"Graham\"]\n",
    "\n",
    "def tessa(source):\n",
    "        result = []\n",
    "        for p1 in range(len(source)):\n",
    "                for p2 in range(p1+1,len(source)):\n",
    "                        result.append([source[p1],source[p2]])\n",
    "        return result\n",
    "\n",
    "pairings = tessa(people)\n",
    "print(\"%d pairings\" % len(pairings))\n",
    "for pair in pairings:\n",
    "        print(pair)"
   ]
  },
  {
   "cell_type": "code",
   "execution_count": 315,
   "metadata": {},
   "outputs": [
    {
     "name": "stdout",
     "output_type": "stream",
     "text": [
      "[array([[ nan,  0.8,  0.8,  0.8,  0.8,  0.8],\n",
      "       [ 0.8,  nan,  1. ,  1. ,  1. ,  1. ],\n",
      "       [ 0.8,  1. ,  nan,  1. ,  1. ,  1. ],\n",
      "       [ 0.8,  1. ,  1. ,  nan,  1. ,  1. ],\n",
      "       [ 0.8,  1. ,  1. ,  1. ,  nan,  1. ],\n",
      "       [ 0.8,  1. ,  1. ,  1. ,  1. ,  nan]]), array([[ nan,  0.8,  0.6,  0.4,  0.2,  0.2],\n",
      "       [ 0.8,  nan,  0.8,  0.6,  0.4,  0.4],\n",
      "       [ 0.6,  0.8,  nan,  0.8,  0.6,  0.6],\n",
      "       [ 0.4,  0.6,  0.8,  nan,  0.8,  0.8],\n",
      "       [ 0.2,  0.4,  0.6,  0.8,  nan,  1. ],\n",
      "       [ 0.2,  0.4,  0.6,  0.8,  1. ,  nan]]), array([[ nan,  0.8,  0.6,  0.6,  0.6,  0.6],\n",
      "       [ 0.8,  nan,  0.8,  0.8,  0.8,  0.8],\n",
      "       [ 0.6,  0.8,  nan,  1. ,  1. ,  1. ],\n",
      "       [ 0.6,  0.8,  1. ,  nan,  1. ,  1. ],\n",
      "       [ 0.6,  0.8,  1. ,  1. ,  nan,  1. ],\n",
      "       [ 0.6,  0.8,  1. ,  1. ,  1. ,  nan]]), array([[ nan,  0.8,  0.6,  0.4,  0.2,  0. ],\n",
      "       [ 0.8,  nan,  0.8,  0.6,  0.4,  0.2],\n",
      "       [ 0.6,  0.8,  nan,  0.8,  0.6,  0.4],\n",
      "       [ 0.4,  0.6,  0.8,  nan,  0.8,  0.6],\n",
      "       [ 0.2,  0.4,  0.6,  0.8,  nan,  0.8],\n",
      "       [ 0. ,  0.2,  0.4,  0.6,  0.8,  nan]]), array([[ nan,  1. ,  0.8,  0.6,  0.4,  0.4],\n",
      "       [ 1. ,  nan,  0.8,  0.6,  0.4,  0.4],\n",
      "       [ 0.8,  0.8,  nan,  0.8,  0.6,  0.6],\n",
      "       [ 0.6,  0.6,  0.8,  nan,  0.8,  0.8],\n",
      "       [ 0.4,  0.4,  0.6,  0.8,  nan,  1. ],\n",
      "       [ 0.4,  0.4,  0.6,  0.8,  1. ,  nan]]), array([[ nan,  1. ,  0.8,  0.8,  0.8,  0.8],\n",
      "       [ 1. ,  nan,  0.8,  0.8,  0.8,  0.8],\n",
      "       [ 0.8,  0.8,  nan,  1. ,  1. ,  1. ],\n",
      "       [ 0.8,  0.8,  1. ,  nan,  1. ,  1. ],\n",
      "       [ 0.8,  0.8,  1. ,  1. ,  nan,  1. ],\n",
      "       [ 0.8,  0.8,  1. ,  1. ,  1. ,  nan]]), array([[ nan,  1. ,  0.8,  0.6,  0.4,  0.2],\n",
      "       [ 1. ,  nan,  0.8,  0.6,  0.4,  0.2],\n",
      "       [ 0.8,  0.8,  nan,  0.8,  0.6,  0.4],\n",
      "       [ 0.6,  0.6,  0.8,  nan,  0.8,  0.6],\n",
      "       [ 0.4,  0.4,  0.6,  0.8,  nan,  0.8],\n",
      "       [ 0.2,  0.2,  0.4,  0.6,  0.8,  nan]]), array([[ nan,  1. ,  1. ,  0.8,  0.6,  0.6],\n",
      "       [ 1. ,  nan,  1. ,  0.8,  0.6,  0.6],\n",
      "       [ 1. ,  1. ,  nan,  0.8,  0.6,  0.6],\n",
      "       [ 0.8,  0.8,  0.8,  nan,  0.8,  0.8],\n",
      "       [ 0.6,  0.6,  0.6,  0.8,  nan,  1. ],\n",
      "       [ 0.6,  0.6,  0.6,  0.8,  1. ,  nan]]), array([[ nan,  1. ,  1. ,  1. ,  1. ,  0.8],\n",
      "       [ 1. ,  nan,  1. ,  1. ,  1. ,  0.8],\n",
      "       [ 1. ,  1. ,  nan,  1. ,  1. ,  0.8],\n",
      "       [ 1. ,  1. ,  1. ,  nan,  1. ,  0.8],\n",
      "       [ 1. ,  1. ,  1. ,  1. ,  nan,  0.8],\n",
      "       [ 0.8,  0.8,  0.8,  0.8,  0.8,  nan]]), array([[ nan,  1. ,  1. ,  0.8,  0.6,  0.4],\n",
      "       [ 1. ,  nan,  1. ,  0.8,  0.6,  0.4],\n",
      "       [ 1. ,  1. ,  nan,  0.8,  0.6,  0.4],\n",
      "       [ 0.8,  0.8,  0.8,  nan,  0.8,  0.6],\n",
      "       [ 0.6,  0.6,  0.6,  0.8,  nan,  0.8],\n",
      "       [ 0.4,  0.4,  0.4,  0.6,  0.8,  nan]])]\n"
     ]
    }
   ],
   "source": [
    "#use the code above to generate the similarity matrixs\n",
    "pairs = tessa(pre_list)\n",
    "Sim_list = []\n",
    "for pair in pairs:\n",
    "    #print(pair[0])\n",
    "    # SM_kb(i,j) = 1 - |p_k(i, j) - p_b(i, j)|\n",
    "    Sim = 1 - np.fabs(pair[0]-pair[1])\n",
    "    #print(Sim)\n",
    "    Sim_list.append(Sim) # a list of all pair of experts' similarity matrixs\n",
    "    \n",
    "print(Sim_list)"
   ]
  },
  {
   "cell_type": "markdown",
   "metadata": {},
   "source": [
    "### 3. evaluate the agreement level\n",
    "#### There are 3 steps of this procedure:\n",
    "* `consensus matrix (pair of alternatives)`: `cp[i,j]= mean(sm_12[i,j], ..., sm_1n[i,j], sm_23[i,j],..., sm_2n[i,j],..., sm_(n-1)n[i,j])`\n",
    "* `each alternatives`: `ca[i] = mean(cm[i,1], ..., cm[i,n])`\n",
    "* `overall agreement`: `cr = mean(ca[i],...,ca[n])`"
   ]
  },
  {
   "cell_type": "markdown",
   "metadata": {},
   "source": [
    "#### ========= pair consensus level ==========\n",
    "For every 'pair' of scores, the consensus level of them is the average of similarity over each similarity matrixs, i.e. the comparation of all pair of experts"
   ]
  },
  {
   "cell_type": "code",
   "execution_count": 316,
   "metadata": {},
   "outputs": [
    {
     "data": {
      "text/plain": [
       "array([[  nan,  0.92,  0.8 ,  0.68,  0.56,  0.48],\n",
       "       [ 0.92,   nan,  0.88,  0.76,  0.64,  0.56],\n",
       "       [ 0.8 ,  0.88,   nan,  0.88,  0.76,  0.68],\n",
       "       [ 0.68,  0.76,  0.88,   nan,  0.88,  0.8 ],\n",
       "       [ 0.56,  0.64,  0.76,  0.88,   nan,  0.92],\n",
       "       [ 0.48,  0.56,  0.68,  0.8 ,  0.92,   nan]])"
      ]
     },
     "execution_count": 316,
     "metadata": {},
     "output_type": "execute_result"
    }
   ],
   "source": [
    "# consensus level of pairs \n",
    "cp = sum(Sim_list)/len(Sim_list)\n",
    "cp"
   ]
  },
  {
   "cell_type": "markdown",
   "metadata": {
    "collapsed": true
   },
   "source": [
    "#### ======== alternatives ========\n",
    "Turn the consensus level of pairs of score to each single score. Find all pairs of scores that contains the score `l` in 'pair consensus' matrix (last step), then take the average of them. "
   ]
  },
  {
   "cell_type": "markdown",
   "metadata": {},
   "source": [
    "##### 2. When the 'eye' of the array is 'Nan'\n",
    "Still caculate the mean of pairs containing the score i by just ignore the 'Nan' value. First turn 'Nan' to 0, then reduce the length of the array by 1. "
   ]
  },
  {
   "cell_type": "code",
   "execution_count": 317,
   "metadata": {},
   "outputs": [
    {
     "data": {
      "text/plain": [
       "array([ 0.688,  0.752,  0.8  ,  0.8  ,  0.752,  0.688])"
      ]
     },
     "execution_count": 317,
     "metadata": {},
     "output_type": "execute_result"
    }
   ],
   "source": [
    "ca = np.nansum(cp, axis=1)/5\n",
    "ca"
   ]
  },
  {
   "cell_type": "markdown",
   "metadata": {
    "collapsed": true
   },
   "source": [
    "#### ======== over all agreement ========\n",
    "Simply average all level of the alternatives (cp)"
   ]
  },
  {
   "cell_type": "code",
   "execution_count": 318,
   "metadata": {},
   "outputs": [
    {
     "data": {
      "text/plain": [
       "0.74666666666666659"
      ]
     },
     "execution_count": 318,
     "metadata": {},
     "output_type": "execute_result"
    }
   ],
   "source": [
    "cr = np.mean(ca)\n",
    "cr"
   ]
  },
  {
   "cell_type": "code",
   "execution_count": null,
   "metadata": {
    "collapsed": true
   },
   "outputs": [],
   "source": []
  },
  {
   "cell_type": "markdown",
   "metadata": {},
   "source": [
    "## ==================Second Part ==================="
   ]
  },
  {
   "cell_type": "markdown",
   "metadata": {},
   "source": [
    "#### This part is to generate the recommendations if the agreement level is below threshold 0.85\n",
    "The basic idea is that, find the experts whose opinions deviate most from the majority, then suggest them to lower or uppper the scores depending on the deviation dirction. "
   ]
  },
  {
   "cell_type": "markdown",
   "metadata": {},
   "source": [
    "#### ========= collective preference ========\n",
    "represents the average opinion over all experts for each pair of scores. "
   ]
  },
  {
   "cell_type": "code",
   "execution_count": 319,
   "metadata": {},
   "outputs": [
    {
     "data": {
      "text/plain": [
       "array([[  nan,  0.44,  0.42,  0.44,  0.46,  0.52],\n",
       "       [ 0.56,   nan,  0.48,  0.5 ,  0.52,  0.58],\n",
       "       [ 0.58,  0.52,   nan,  0.52,  0.54,  0.6 ],\n",
       "       [ 0.56,  0.5 ,  0.48,   nan,  0.52,  0.58],\n",
       "       [ 0.54,  0.48,  0.46,  0.48,   nan,  0.56],\n",
       "       [ 0.48,  0.42,  0.4 ,  0.42,  0.44,   nan]])"
      ]
     },
     "execution_count": 319,
     "metadata": {},
     "output_type": "execute_result"
    }
   ],
   "source": [
    "coll = sum(pre_list)/len(pre_list)\n",
    "coll"
   ]
  },
  {
   "cell_type": "markdown",
   "metadata": {},
   "source": [
    "#### ======== proximity values ========\n",
    "For each pair of scores `l & k`, how much does your opinion deviate from the overall opinion (collective preference)? For each expert `i`, his/her preference relation with collective preference pc is:\n",
    "#### `pv_i[l,k] = 1- |p_i[l,k]-coll[l,k]|` \n",
    "So the higher pv, the cloer to the average opinion"
   ]
  },
  {
   "cell_type": "code",
   "execution_count": 320,
   "metadata": {},
   "outputs": [
    {
     "name": "stdout",
     "output_type": "stream",
     "text": [
      "[[[  nan  0.84  0.72  0.64  0.56  0.52]\n",
      "  [ 0.84   nan  0.88  0.8   0.72  0.68]\n",
      "  [ 0.72  0.88   nan  0.92  0.84  0.8 ]\n",
      "  [ 0.64  0.8   0.92   nan  0.92  0.88]\n",
      "  [ 0.56  0.72  0.84  0.92   nan  0.96]\n",
      "  [ 0.52  0.68  0.8   0.88  0.96   nan]]\n",
      "\n",
      " [[  nan  0.96  0.92  0.84  0.76  0.72]\n",
      "  [ 0.96   nan  0.88  0.8   0.72  0.68]\n",
      "  [ 0.92  0.88   nan  0.92  0.84  0.8 ]\n",
      "  [ 0.84  0.8   0.92   nan  0.92  0.88]\n",
      "  [ 0.76  0.72  0.84  0.92   nan  0.96]\n",
      "  [ 0.72  0.68  0.8   0.88  0.96   nan]]\n",
      "\n",
      " [[  nan  0.96  0.88  0.76  0.64  0.68]\n",
      "  [ 0.96   nan  0.92  0.8   0.68  0.72]\n",
      "  [ 0.88  0.92   nan  0.88  0.76  0.8 ]\n",
      "  [ 0.76  0.8   0.88   nan  0.88  0.92]\n",
      "  [ 0.64  0.68  0.76  0.88   nan  0.96]\n",
      "  [ 0.68  0.72  0.8   0.92  0.96   nan]]\n",
      "\n",
      " [[  nan  0.96  0.88  0.96  0.96  0.92]\n",
      "  [ 0.96   nan  0.92  1.    0.92  0.88]\n",
      "  [ 0.88  0.92   nan  0.92  0.84  0.8 ]\n",
      "  [ 0.96  1.    0.92   nan  0.92  0.88]\n",
      "  [ 0.96  0.92  0.84  0.92   nan  0.96]\n",
      "  [ 0.92  0.88  0.8   0.88  0.96   nan]]\n",
      "\n",
      " [[  nan  0.96  0.88  0.76  0.64  0.48]\n",
      "  [ 0.96   nan  0.92  0.8   0.68  0.52]\n",
      "  [ 0.88  0.92   nan  0.88  0.76  0.6 ]\n",
      "  [ 0.76  0.8   0.88   nan  0.88  0.72]\n",
      "  [ 0.64  0.68  0.76  0.88   nan  0.84]\n",
      "  [ 0.48  0.52  0.6   0.72  0.84   nan]]]\n"
     ]
    }
   ],
   "source": [
    "pv_list = []\n",
    "for prefer in pre_list:\n",
    "    pv = 1 - np.fabs(prefer - coll)\n",
    "    pv_list.append(pv)\n",
    "pv_list = np.array(pv_list)\n",
    "print (pv_list)"
   ]
  },
  {
   "cell_type": "markdown",
   "metadata": {
    "collapsed": true
   },
   "source": [
    "#### ========= what should change =========\n",
    "The pair of scores whose 'pair consensus level' (cp) plus itself consensus level(ca) that are not enough are identified to be changed."
   ]
  },
  {
   "cell_type": "code",
   "execution_count": 321,
   "metadata": {},
   "outputs": [
    {
     "name": "stdout",
     "output_type": "stream",
     "text": [
      "[(0, 3), (0, 4), (0, 5), (5, 0), (5, 1), (5, 2)]\n"
     ]
    }
   ],
   "source": [
    "change = []\n",
    "for score1, score2 in itertools.product(score_range, repeat = 2):\n",
    "    if np.nansum(cp[score1,:])/5 < cr and cp[score1, score2] < cr:\n",
    "        #print(score1, score2)\n",
    "        # np.nansum(cp[score1,:])/5 = ca, single score consensus level\n",
    "        two_items = score1, score2\n",
    "        change.append(two_items)\n",
    "        #print(two_items)\n",
    "print(change)"
   ]
  },
  {
   "cell_type": "markdown",
   "metadata": {
    "collapsed": true
   },
   "source": [
    "#### ======== who should change =========\n",
    "We now have the pairs that need to be changed. For those pairs, the expert `e(i)` whose preference on them is furthest from collective preference should change the opinion. An average proximity is calcualted to identify the experts. \n",
    "##### `mean(pv_1[l,k], pv_2[l,k], ... , pv_n[l,k])`"
   ]
  },
  {
   "cell_type": "code",
   "execution_count": 325,
   "metadata": {},
   "outputs": [
    {
     "name": "stdout",
     "output_type": "stream",
     "text": [
      "0 (0, 3)\n",
      "2 (0, 3)\n",
      "4 (0, 3)\n",
      "0 (0, 4)\n",
      "2 (0, 4)\n",
      "4 (0, 4)\n",
      "0 (0, 5)\n",
      "4 (0, 5)\n",
      "0 (5, 0)\n",
      "4 (5, 0)\n",
      "0 (5, 1)\n",
      "1 (5, 1)\n",
      "4 (5, 1)\n",
      "4 (5, 2)\n",
      "[0, 2, 4, 1]\n"
     ]
    }
   ],
   "source": [
    "unique = []\n",
    "for x, y in change:\n",
    "    avg = pv_list[:, x, y].mean()\n",
    "    #print(avg)\n",
    "    \n",
    "    for exp in range(len(exp_scores)):\n",
    "        if pv_list[exp, x, y] < avg:\n",
    "            print(exp,(x,y))\n",
    "            if exp not in unique:\n",
    "                unique.append(exp)\n",
    "print(unique)\n"
   ]
  },
  {
   "cell_type": "code",
   "execution_count": 326,
   "metadata": {},
   "outputs": [
    {
     "data": {
      "text/plain": [
       "[0, 1, 4, 2, 5]"
      ]
     },
     "execution_count": 326,
     "metadata": {},
     "output_type": "execute_result"
    }
   ],
   "source": [
    "exp_scores"
   ]
  },
  {
   "cell_type": "code",
   "execution_count": 323,
   "metadata": {},
   "outputs": [
    {
     "name": "stdout",
     "output_type": "stream",
     "text": [
      "expert0, your opinion is different from others, could you raise yor score?\n",
      "expert2, your opinion is different from others, could you lower your score?\n",
      "expert4, your opinion is different from others, could you lower your score?\n",
      "expert1, your opinion is different from others, could you raise yor score?\n",
      "[2]\n"
     ]
    }
   ],
   "source": [
    "aggreScores = [x for ep,x in enumerate(exp_scores) if ep not in unique]\n",
    "agg_avg = sum(aggreScores)/len(aggreScores)\n",
    "\n",
    "for ep in unique:\n",
    "    if exp_scores[ep] < agg_avg:\n",
    "        print(\"expert{0}, your opinion\"\n",
    "          \" is different from others, could you raise yor score?\"\n",
    "          .format(ep))  \n",
    "    else:\n",
    "        print(\"expert{0}, your opinion\"\n",
    "          \" is different from others, could you lower your score?\"\n",
    "          .format(ep))  \n",
    "print(aggreScores)\n"
   ]
  }
 ],
 "metadata": {
  "kernelspec": {
   "display_name": "Python 2",
   "language": "python",
   "name": "python2"
  },
  "language_info": {
   "codemirror_mode": {
    "name": "ipython",
    "version": 2
   },
   "file_extension": ".py",
   "mimetype": "text/x-python",
   "name": "python",
   "nbconvert_exporter": "python",
   "pygments_lexer": "ipython2",
   "version": "2.7.14"
  }
 },
 "nbformat": 4,
 "nbformat_minor": 2
}
