{
 "cells": [
  {
   "cell_type": "code",
   "execution_count": 176,
   "metadata": {
    "collapsed": true
   },
   "outputs": [],
   "source": [
    "from __future__ import division, print_function \n",
    "import os\n",
    "import sys\n",
    "import numpy as np\n",
    "import pandas as pd\n",
    "import itertools as it\n",
    "#import math\n",
    "from matplotlib import pyplot as plt\n",
    "import seaborn as sns\n",
    "import copy"
   ]
  },
  {
   "cell_type": "code",
   "execution_count": 177,
   "metadata": {},
   "outputs": [
    {
     "name": "stdout",
     "output_type": "stream",
     "text": [
      "15 pairings\n",
      "['Lisa', 'Pam']\n",
      "['Lisa', 'Maurice']\n",
      "['Lisa', 'Richard']\n",
      "['Lisa', 'John']\n",
      "['Lisa', 'Graham']\n",
      "['Pam', 'Maurice']\n",
      "['Pam', 'Richard']\n",
      "['Pam', 'John']\n",
      "['Pam', 'Graham']\n",
      "['Maurice', 'Richard']\n",
      "['Maurice', 'John']\n",
      "['Maurice', 'Graham']\n",
      "['Richard', 'John']\n",
      "['Richard', 'Graham']\n",
      "['John', 'Graham']\n"
     ]
    }
   ],
   "source": [
    "# example about how to pair n elements in a list\n",
    "people = [\"Lisa\",\"Pam\",\"Maurice\",\"Richard\",\"John\",\"Graham\"]\n",
    "\n",
    "def tessa(source):\n",
    "        result = []\n",
    "        for p1 in range(len(source)):\n",
    "                for p2 in range(p1+1,len(source)):\n",
    "                        result.append([source[p1],source[p2]])\n",
    "        return result\n",
    "\n",
    "pairings = tessa(people)\n",
    "print(\"%d pairings\" % len(pairings))\n",
    "for pair in pairings:\n",
    "        print(pair)"
   ]
  },
  {
   "cell_type": "markdown",
   "metadata": {},
   "source": [
    "## This implementation is just for ONE issue over 12 dimensions\n"
   ]
  },
  {
   "cell_type": "markdown",
   "metadata": {
    "collapsed": true
   },
   "source": [
    "## ============== First Part ===============\n",
    "### The following codes are divided into several parts to calculate the agreement level among all experts"
   ]
  },
  {
   "cell_type": "markdown",
   "metadata": {},
   "source": [
    "### 1. As every experts have picked a score for the issue, based on the issue, calculate the preference matrix of all pair of scores for each expert. \n",
    "This is done by comparing the distance of the two scores to the picked one. That is: \n",
    "##### `p(n,m) = 0.5 - (dn - dm)`, \n",
    "where p > 0.5 means prefer n to m, d means `distance = 0.1 * fabs (score_i - score_picked)`"
   ]
  },
  {
   "cell_type": "code",
   "execution_count": 178,
   "metadata": {
    "collapsed": true
   },
   "outputs": [],
   "source": [
    "score_range = range(6)\n",
    "exp_scores = [1,2,5,5,5,5,5,4,4,4] "
   ]
  },
  {
   "cell_type": "code",
   "execution_count": 179,
   "metadata": {},
   "outputs": [
    {
     "name": "stdout",
     "output_type": "stream",
     "text": [
      "[array([[ nan,  0.4,  0.5,  0.6,  0.7,  0.8],\n",
      "       [ 0.6,  nan,  0.6,  0.7,  0.8,  0.9],\n",
      "       [ 0.5,  0.4,  nan,  0.6,  0.7,  0.8],\n",
      "       [ 0.4,  0.3,  0.4,  nan,  0.6,  0.7],\n",
      "       [ 0.3,  0.2,  0.3,  0.4,  nan,  0.6],\n",
      "       [ 0.2,  0.1,  0.2,  0.3,  0.4,  nan]]), array([[ nan,  0.4,  0.3,  0.4,  0.5,  0.6],\n",
      "       [ 0.6,  nan,  0.4,  0.5,  0.6,  0.7],\n",
      "       [ 0.7,  0.6,  nan,  0.6,  0.7,  0.8],\n",
      "       [ 0.6,  0.5,  0.4,  nan,  0.6,  0.7],\n",
      "       [ 0.5,  0.4,  0.3,  0.4,  nan,  0.6],\n",
      "       [ 0.4,  0.3,  0.2,  0.3,  0.4,  nan]]), array([[ nan,  0.4,  0.3,  0.2,  0.1,  0. ],\n",
      "       [ 0.6,  nan,  0.4,  0.3,  0.2,  0.1],\n",
      "       [ 0.7,  0.6,  nan,  0.4,  0.3,  0.2],\n",
      "       [ 0.8,  0.7,  0.6,  nan,  0.4,  0.3],\n",
      "       [ 0.9,  0.8,  0.7,  0.6,  nan,  0.4],\n",
      "       [ 1. ,  0.9,  0.8,  0.7,  0.6,  nan]]), array([[ nan,  0.4,  0.3,  0.2,  0.1,  0. ],\n",
      "       [ 0.6,  nan,  0.4,  0.3,  0.2,  0.1],\n",
      "       [ 0.7,  0.6,  nan,  0.4,  0.3,  0.2],\n",
      "       [ 0.8,  0.7,  0.6,  nan,  0.4,  0.3],\n",
      "       [ 0.9,  0.8,  0.7,  0.6,  nan,  0.4],\n",
      "       [ 1. ,  0.9,  0.8,  0.7,  0.6,  nan]]), array([[ nan,  0.4,  0.3,  0.2,  0.1,  0. ],\n",
      "       [ 0.6,  nan,  0.4,  0.3,  0.2,  0.1],\n",
      "       [ 0.7,  0.6,  nan,  0.4,  0.3,  0.2],\n",
      "       [ 0.8,  0.7,  0.6,  nan,  0.4,  0.3],\n",
      "       [ 0.9,  0.8,  0.7,  0.6,  nan,  0.4],\n",
      "       [ 1. ,  0.9,  0.8,  0.7,  0.6,  nan]]), array([[ nan,  0.4,  0.3,  0.2,  0.1,  0. ],\n",
      "       [ 0.6,  nan,  0.4,  0.3,  0.2,  0.1],\n",
      "       [ 0.7,  0.6,  nan,  0.4,  0.3,  0.2],\n",
      "       [ 0.8,  0.7,  0.6,  nan,  0.4,  0.3],\n",
      "       [ 0.9,  0.8,  0.7,  0.6,  nan,  0.4],\n",
      "       [ 1. ,  0.9,  0.8,  0.7,  0.6,  nan]]), array([[ nan,  0.4,  0.3,  0.2,  0.1,  0. ],\n",
      "       [ 0.6,  nan,  0.4,  0.3,  0.2,  0.1],\n",
      "       [ 0.7,  0.6,  nan,  0.4,  0.3,  0.2],\n",
      "       [ 0.8,  0.7,  0.6,  nan,  0.4,  0.3],\n",
      "       [ 0.9,  0.8,  0.7,  0.6,  nan,  0.4],\n",
      "       [ 1. ,  0.9,  0.8,  0.7,  0.6,  nan]]), array([[ nan,  0.4,  0.3,  0.2,  0.1,  0.2],\n",
      "       [ 0.6,  nan,  0.4,  0.3,  0.2,  0.3],\n",
      "       [ 0.7,  0.6,  nan,  0.4,  0.3,  0.4],\n",
      "       [ 0.8,  0.7,  0.6,  nan,  0.4,  0.5],\n",
      "       [ 0.9,  0.8,  0.7,  0.6,  nan,  0.6],\n",
      "       [ 0.8,  0.7,  0.6,  0.5,  0.4,  nan]]), array([[ nan,  0.4,  0.3,  0.2,  0.1,  0.2],\n",
      "       [ 0.6,  nan,  0.4,  0.3,  0.2,  0.3],\n",
      "       [ 0.7,  0.6,  nan,  0.4,  0.3,  0.4],\n",
      "       [ 0.8,  0.7,  0.6,  nan,  0.4,  0.5],\n",
      "       [ 0.9,  0.8,  0.7,  0.6,  nan,  0.6],\n",
      "       [ 0.8,  0.7,  0.6,  0.5,  0.4,  nan]]), array([[ nan,  0.4,  0.3,  0.2,  0.1,  0.2],\n",
      "       [ 0.6,  nan,  0.4,  0.3,  0.2,  0.3],\n",
      "       [ 0.7,  0.6,  nan,  0.4,  0.3,  0.4],\n",
      "       [ 0.8,  0.7,  0.6,  nan,  0.4,  0.5],\n",
      "       [ 0.9,  0.8,  0.7,  0.6,  nan,  0.6],\n",
      "       [ 0.8,  0.7,  0.6,  0.5,  0.4,  nan]])]\n"
     ]
    }
   ],
   "source": [
    "# after the five star step, I SHOULD get the database about the chosen score for the issue of every experts\n",
    "pre_list = []\n",
    "for exp in range(len(exp_scores)):\n",
    "    P = np.eye(6) # preference matrix\n",
    "    for n in score_range:\n",
    "        for m in score_range:\n",
    "            #print(n,m)\n",
    "            d_n = np.fabs(0.1 * (n - exp_scores[exp]))\n",
    "            d_m = np.fabs(0.1 * (m - exp_scores[exp]))\n",
    "            P[n,m] = 0.5 - (d_n - d_m)\n",
    "            P[m,m] = np.nan #compare the score with itself is meaningless\n",
    "    #print(P)\n",
    "    pre_list.append(P)\n",
    "print(pre_list)"
   ]
  },
  {
   "cell_type": "markdown",
   "metadata": {
    "collapsed": true
   },
   "source": [
    "### ======== Problem =========\n",
    "### Should I rewrite the code by 'dataFrame' to make the preference array more clear to consult in later step?"
   ]
  },
  {
   "cell_type": "markdown",
   "metadata": {
    "collapsed": true
   },
   "source": [
    "### 2. For every pair of experts ek and eb, evaluate their similarity by calculating the similarity matrix. \n",
    "#### ======    `SM_kb(i,j) = 1 - |p_k(i,j) - p_b(i,j)|`       ======\n",
    "This means for EVERY same pair of scores (eg. 1&4), the two experts MAY have different preference (p_k[1,4] & p_b[1,4]), then their similarity is: \n",
    "#### `SM_kb[1,4] = 1 - |p_k(1,4) - p_b(1,4)| `\n",
    "Note that because `p_k(i,j) = 1 - p_k(j,i)`, we can know that `|p_k(i,j)-p_b(i,j)|`= `|1-p_k(j,i)-1 + p_b(j,i)|` = `|p_b(j,i)-p_k(j,i)|` = `|p_k(j,i)-p_b(j,i)|`. Therefore `SM_kb(i,j)=SM_kb(j,i)`."
   ]
  },
  {
   "cell_type": "code",
   "execution_count": 180,
   "metadata": {},
   "outputs": [
    {
     "name": "stdout",
     "output_type": "stream",
     "text": [
      "[array([[ nan,  1. ,  0.8,  0.8,  0.8,  0.8],\n",
      "       [ 1. ,  nan,  0.8,  0.8,  0.8,  0.8],\n",
      "       [ 0.8,  0.8,  nan,  1. ,  1. ,  1. ],\n",
      "       [ 0.8,  0.8,  1. ,  nan,  1. ,  1. ],\n",
      "       [ 0.8,  0.8,  1. ,  1. ,  nan,  1. ],\n",
      "       [ 0.8,  0.8,  1. ,  1. ,  1. ,  nan]]), array([[ nan,  1. ,  0.8,  0.6,  0.4,  0.2],\n",
      "       [ 1. ,  nan,  0.8,  0.6,  0.4,  0.2],\n",
      "       [ 0.8,  0.8,  nan,  0.8,  0.6,  0.4],\n",
      "       [ 0.6,  0.6,  0.8,  nan,  0.8,  0.6],\n",
      "       [ 0.4,  0.4,  0.6,  0.8,  nan,  0.8],\n",
      "       [ 0.2,  0.2,  0.4,  0.6,  0.8,  nan]]), array([[ nan,  1. ,  0.8,  0.6,  0.4,  0.2],\n",
      "       [ 1. ,  nan,  0.8,  0.6,  0.4,  0.2],\n",
      "       [ 0.8,  0.8,  nan,  0.8,  0.6,  0.4],\n",
      "       [ 0.6,  0.6,  0.8,  nan,  0.8,  0.6],\n",
      "       [ 0.4,  0.4,  0.6,  0.8,  nan,  0.8],\n",
      "       [ 0.2,  0.2,  0.4,  0.6,  0.8,  nan]]), array([[ nan,  1. ,  0.8,  0.6,  0.4,  0.2],\n",
      "       [ 1. ,  nan,  0.8,  0.6,  0.4,  0.2],\n",
      "       [ 0.8,  0.8,  nan,  0.8,  0.6,  0.4],\n",
      "       [ 0.6,  0.6,  0.8,  nan,  0.8,  0.6],\n",
      "       [ 0.4,  0.4,  0.6,  0.8,  nan,  0.8],\n",
      "       [ 0.2,  0.2,  0.4,  0.6,  0.8,  nan]]), array([[ nan,  1. ,  0.8,  0.6,  0.4,  0.2],\n",
      "       [ 1. ,  nan,  0.8,  0.6,  0.4,  0.2],\n",
      "       [ 0.8,  0.8,  nan,  0.8,  0.6,  0.4],\n",
      "       [ 0.6,  0.6,  0.8,  nan,  0.8,  0.6],\n",
      "       [ 0.4,  0.4,  0.6,  0.8,  nan,  0.8],\n",
      "       [ 0.2,  0.2,  0.4,  0.6,  0.8,  nan]]), array([[ nan,  1. ,  0.8,  0.6,  0.4,  0.2],\n",
      "       [ 1. ,  nan,  0.8,  0.6,  0.4,  0.2],\n",
      "       [ 0.8,  0.8,  nan,  0.8,  0.6,  0.4],\n",
      "       [ 0.6,  0.6,  0.8,  nan,  0.8,  0.6],\n",
      "       [ 0.4,  0.4,  0.6,  0.8,  nan,  0.8],\n",
      "       [ 0.2,  0.2,  0.4,  0.6,  0.8,  nan]]), array([[ nan,  1. ,  0.8,  0.6,  0.4,  0.4],\n",
      "       [ 1. ,  nan,  0.8,  0.6,  0.4,  0.4],\n",
      "       [ 0.8,  0.8,  nan,  0.8,  0.6,  0.6],\n",
      "       [ 0.6,  0.6,  0.8,  nan,  0.8,  0.8],\n",
      "       [ 0.4,  0.4,  0.6,  0.8,  nan,  1. ],\n",
      "       [ 0.4,  0.4,  0.6,  0.8,  1. ,  nan]]), array([[ nan,  1. ,  0.8,  0.6,  0.4,  0.4],\n",
      "       [ 1. ,  nan,  0.8,  0.6,  0.4,  0.4],\n",
      "       [ 0.8,  0.8,  nan,  0.8,  0.6,  0.6],\n",
      "       [ 0.6,  0.6,  0.8,  nan,  0.8,  0.8],\n",
      "       [ 0.4,  0.4,  0.6,  0.8,  nan,  1. ],\n",
      "       [ 0.4,  0.4,  0.6,  0.8,  1. ,  nan]]), array([[ nan,  1. ,  0.8,  0.6,  0.4,  0.4],\n",
      "       [ 1. ,  nan,  0.8,  0.6,  0.4,  0.4],\n",
      "       [ 0.8,  0.8,  nan,  0.8,  0.6,  0.6],\n",
      "       [ 0.6,  0.6,  0.8,  nan,  0.8,  0.8],\n",
      "       [ 0.4,  0.4,  0.6,  0.8,  nan,  1. ],\n",
      "       [ 0.4,  0.4,  0.6,  0.8,  1. ,  nan]]), array([[ nan,  1. ,  1. ,  0.8,  0.6,  0.4],\n",
      "       [ 1. ,  nan,  1. ,  0.8,  0.6,  0.4],\n",
      "       [ 1. ,  1. ,  nan,  0.8,  0.6,  0.4],\n",
      "       [ 0.8,  0.8,  0.8,  nan,  0.8,  0.6],\n",
      "       [ 0.6,  0.6,  0.6,  0.8,  nan,  0.8],\n",
      "       [ 0.4,  0.4,  0.4,  0.6,  0.8,  nan]]), array([[ nan,  1. ,  1. ,  0.8,  0.6,  0.4],\n",
      "       [ 1. ,  nan,  1. ,  0.8,  0.6,  0.4],\n",
      "       [ 1. ,  1. ,  nan,  0.8,  0.6,  0.4],\n",
      "       [ 0.8,  0.8,  0.8,  nan,  0.8,  0.6],\n",
      "       [ 0.6,  0.6,  0.6,  0.8,  nan,  0.8],\n",
      "       [ 0.4,  0.4,  0.4,  0.6,  0.8,  nan]]), array([[ nan,  1. ,  1. ,  0.8,  0.6,  0.4],\n",
      "       [ 1. ,  nan,  1. ,  0.8,  0.6,  0.4],\n",
      "       [ 1. ,  1. ,  nan,  0.8,  0.6,  0.4],\n",
      "       [ 0.8,  0.8,  0.8,  nan,  0.8,  0.6],\n",
      "       [ 0.6,  0.6,  0.6,  0.8,  nan,  0.8],\n",
      "       [ 0.4,  0.4,  0.4,  0.6,  0.8,  nan]]), array([[ nan,  1. ,  1. ,  0.8,  0.6,  0.4],\n",
      "       [ 1. ,  nan,  1. ,  0.8,  0.6,  0.4],\n",
      "       [ 1. ,  1. ,  nan,  0.8,  0.6,  0.4],\n",
      "       [ 0.8,  0.8,  0.8,  nan,  0.8,  0.6],\n",
      "       [ 0.6,  0.6,  0.6,  0.8,  nan,  0.8],\n",
      "       [ 0.4,  0.4,  0.4,  0.6,  0.8,  nan]]), array([[ nan,  1. ,  1. ,  0.8,  0.6,  0.4],\n",
      "       [ 1. ,  nan,  1. ,  0.8,  0.6,  0.4],\n",
      "       [ 1. ,  1. ,  nan,  0.8,  0.6,  0.4],\n",
      "       [ 0.8,  0.8,  0.8,  nan,  0.8,  0.6],\n",
      "       [ 0.6,  0.6,  0.6,  0.8,  nan,  0.8],\n",
      "       [ 0.4,  0.4,  0.4,  0.6,  0.8,  nan]]), array([[ nan,  1. ,  1. ,  0.8,  0.6,  0.6],\n",
      "       [ 1. ,  nan,  1. ,  0.8,  0.6,  0.6],\n",
      "       [ 1. ,  1. ,  nan,  0.8,  0.6,  0.6],\n",
      "       [ 0.8,  0.8,  0.8,  nan,  0.8,  0.8],\n",
      "       [ 0.6,  0.6,  0.6,  0.8,  nan,  1. ],\n",
      "       [ 0.6,  0.6,  0.6,  0.8,  1. ,  nan]]), array([[ nan,  1. ,  1. ,  0.8,  0.6,  0.6],\n",
      "       [ 1. ,  nan,  1. ,  0.8,  0.6,  0.6],\n",
      "       [ 1. ,  1. ,  nan,  0.8,  0.6,  0.6],\n",
      "       [ 0.8,  0.8,  0.8,  nan,  0.8,  0.8],\n",
      "       [ 0.6,  0.6,  0.6,  0.8,  nan,  1. ],\n",
      "       [ 0.6,  0.6,  0.6,  0.8,  1. ,  nan]]), array([[ nan,  1. ,  1. ,  0.8,  0.6,  0.6],\n",
      "       [ 1. ,  nan,  1. ,  0.8,  0.6,  0.6],\n",
      "       [ 1. ,  1. ,  nan,  0.8,  0.6,  0.6],\n",
      "       [ 0.8,  0.8,  0.8,  nan,  0.8,  0.8],\n",
      "       [ 0.6,  0.6,  0.6,  0.8,  nan,  1. ],\n",
      "       [ 0.6,  0.6,  0.6,  0.8,  1. ,  nan]]), array([[ nan,   1.,   1.,   1.,   1.,   1.],\n",
      "       [  1.,  nan,   1.,   1.,   1.,   1.],\n",
      "       [  1.,   1.,  nan,   1.,   1.,   1.],\n",
      "       [  1.,   1.,   1.,  nan,   1.,   1.],\n",
      "       [  1.,   1.,   1.,   1.,  nan,   1.],\n",
      "       [  1.,   1.,   1.,   1.,   1.,  nan]]), array([[ nan,   1.,   1.,   1.,   1.,   1.],\n",
      "       [  1.,  nan,   1.,   1.,   1.,   1.],\n",
      "       [  1.,   1.,  nan,   1.,   1.,   1.],\n",
      "       [  1.,   1.,   1.,  nan,   1.,   1.],\n",
      "       [  1.,   1.,   1.,   1.,  nan,   1.],\n",
      "       [  1.,   1.,   1.,   1.,   1.,  nan]]), array([[ nan,   1.,   1.,   1.,   1.,   1.],\n",
      "       [  1.,  nan,   1.,   1.,   1.,   1.],\n",
      "       [  1.,   1.,  nan,   1.,   1.,   1.],\n",
      "       [  1.,   1.,   1.,  nan,   1.,   1.],\n",
      "       [  1.,   1.,   1.,   1.,  nan,   1.],\n",
      "       [  1.,   1.,   1.,   1.,   1.,  nan]]), array([[ nan,   1.,   1.,   1.,   1.,   1.],\n",
      "       [  1.,  nan,   1.,   1.,   1.,   1.],\n",
      "       [  1.,   1.,  nan,   1.,   1.,   1.],\n",
      "       [  1.,   1.,   1.,  nan,   1.,   1.],\n",
      "       [  1.,   1.,   1.,   1.,  nan,   1.],\n",
      "       [  1.,   1.,   1.,   1.,   1.,  nan]]), array([[ nan,  1. ,  1. ,  1. ,  1. ,  0.8],\n",
      "       [ 1. ,  nan,  1. ,  1. ,  1. ,  0.8],\n",
      "       [ 1. ,  1. ,  nan,  1. ,  1. ,  0.8],\n",
      "       [ 1. ,  1. ,  1. ,  nan,  1. ,  0.8],\n",
      "       [ 1. ,  1. ,  1. ,  1. ,  nan,  0.8],\n",
      "       [ 0.8,  0.8,  0.8,  0.8,  0.8,  nan]]), array([[ nan,  1. ,  1. ,  1. ,  1. ,  0.8],\n",
      "       [ 1. ,  nan,  1. ,  1. ,  1. ,  0.8],\n",
      "       [ 1. ,  1. ,  nan,  1. ,  1. ,  0.8],\n",
      "       [ 1. ,  1. ,  1. ,  nan,  1. ,  0.8],\n",
      "       [ 1. ,  1. ,  1. ,  1. ,  nan,  0.8],\n",
      "       [ 0.8,  0.8,  0.8,  0.8,  0.8,  nan]]), array([[ nan,  1. ,  1. ,  1. ,  1. ,  0.8],\n",
      "       [ 1. ,  nan,  1. ,  1. ,  1. ,  0.8],\n",
      "       [ 1. ,  1. ,  nan,  1. ,  1. ,  0.8],\n",
      "       [ 1. ,  1. ,  1. ,  nan,  1. ,  0.8],\n",
      "       [ 1. ,  1. ,  1. ,  1. ,  nan,  0.8],\n",
      "       [ 0.8,  0.8,  0.8,  0.8,  0.8,  nan]]), array([[ nan,   1.,   1.,   1.,   1.,   1.],\n",
      "       [  1.,  nan,   1.,   1.,   1.,   1.],\n",
      "       [  1.,   1.,  nan,   1.,   1.,   1.],\n",
      "       [  1.,   1.,   1.,  nan,   1.,   1.],\n",
      "       [  1.,   1.,   1.,   1.,  nan,   1.],\n",
      "       [  1.,   1.,   1.,   1.,   1.,  nan]]), array([[ nan,   1.,   1.,   1.,   1.,   1.],\n",
      "       [  1.,  nan,   1.,   1.,   1.,   1.],\n",
      "       [  1.,   1.,  nan,   1.,   1.,   1.],\n",
      "       [  1.,   1.,   1.,  nan,   1.,   1.],\n",
      "       [  1.,   1.,   1.,   1.,  nan,   1.],\n",
      "       [  1.,   1.,   1.,   1.,   1.,  nan]]), array([[ nan,   1.,   1.,   1.,   1.,   1.],\n",
      "       [  1.,  nan,   1.,   1.,   1.,   1.],\n",
      "       [  1.,   1.,  nan,   1.,   1.,   1.],\n",
      "       [  1.,   1.,   1.,  nan,   1.,   1.],\n",
      "       [  1.,   1.,   1.,   1.,  nan,   1.],\n",
      "       [  1.,   1.,   1.,   1.,   1.,  nan]]), array([[ nan,  1. ,  1. ,  1. ,  1. ,  0.8],\n",
      "       [ 1. ,  nan,  1. ,  1. ,  1. ,  0.8],\n",
      "       [ 1. ,  1. ,  nan,  1. ,  1. ,  0.8],\n",
      "       [ 1. ,  1. ,  1. ,  nan,  1. ,  0.8],\n",
      "       [ 1. ,  1. ,  1. ,  1. ,  nan,  0.8],\n",
      "       [ 0.8,  0.8,  0.8,  0.8,  0.8,  nan]]), array([[ nan,  1. ,  1. ,  1. ,  1. ,  0.8],\n",
      "       [ 1. ,  nan,  1. ,  1. ,  1. ,  0.8],\n",
      "       [ 1. ,  1. ,  nan,  1. ,  1. ,  0.8],\n",
      "       [ 1. ,  1. ,  1. ,  nan,  1. ,  0.8],\n",
      "       [ 1. ,  1. ,  1. ,  1. ,  nan,  0.8],\n",
      "       [ 0.8,  0.8,  0.8,  0.8,  0.8,  nan]]), array([[ nan,  1. ,  1. ,  1. ,  1. ,  0.8],\n",
      "       [ 1. ,  nan,  1. ,  1. ,  1. ,  0.8],\n",
      "       [ 1. ,  1. ,  nan,  1. ,  1. ,  0.8],\n",
      "       [ 1. ,  1. ,  1. ,  nan,  1. ,  0.8],\n",
      "       [ 1. ,  1. ,  1. ,  1. ,  nan,  0.8],\n",
      "       [ 0.8,  0.8,  0.8,  0.8,  0.8,  nan]]), array([[ nan,   1.,   1.,   1.,   1.,   1.],\n",
      "       [  1.,  nan,   1.,   1.,   1.,   1.],\n",
      "       [  1.,   1.,  nan,   1.,   1.,   1.],\n",
      "       [  1.,   1.,   1.,  nan,   1.,   1.],\n",
      "       [  1.,   1.,   1.,   1.,  nan,   1.],\n",
      "       [  1.,   1.,   1.,   1.,   1.,  nan]]), array([[ nan,   1.,   1.,   1.,   1.,   1.],\n",
      "       [  1.,  nan,   1.,   1.,   1.,   1.],\n",
      "       [  1.,   1.,  nan,   1.,   1.,   1.],\n",
      "       [  1.,   1.,   1.,  nan,   1.,   1.],\n",
      "       [  1.,   1.,   1.,   1.,  nan,   1.],\n",
      "       [  1.,   1.,   1.,   1.,   1.,  nan]]), array([[ nan,  1. ,  1. ,  1. ,  1. ,  0.8],\n",
      "       [ 1. ,  nan,  1. ,  1. ,  1. ,  0.8],\n",
      "       [ 1. ,  1. ,  nan,  1. ,  1. ,  0.8],\n",
      "       [ 1. ,  1. ,  1. ,  nan,  1. ,  0.8],\n",
      "       [ 1. ,  1. ,  1. ,  1. ,  nan,  0.8],\n",
      "       [ 0.8,  0.8,  0.8,  0.8,  0.8,  nan]]), array([[ nan,  1. ,  1. ,  1. ,  1. ,  0.8],\n",
      "       [ 1. ,  nan,  1. ,  1. ,  1. ,  0.8],\n",
      "       [ 1. ,  1. ,  nan,  1. ,  1. ,  0.8],\n",
      "       [ 1. ,  1. ,  1. ,  nan,  1. ,  0.8],\n",
      "       [ 1. ,  1. ,  1. ,  1. ,  nan,  0.8],\n",
      "       [ 0.8,  0.8,  0.8,  0.8,  0.8,  nan]]), array([[ nan,  1. ,  1. ,  1. ,  1. ,  0.8],\n",
      "       [ 1. ,  nan,  1. ,  1. ,  1. ,  0.8],\n",
      "       [ 1. ,  1. ,  nan,  1. ,  1. ,  0.8],\n",
      "       [ 1. ,  1. ,  1. ,  nan,  1. ,  0.8],\n",
      "       [ 1. ,  1. ,  1. ,  1. ,  nan,  0.8],\n",
      "       [ 0.8,  0.8,  0.8,  0.8,  0.8,  nan]]), array([[ nan,   1.,   1.,   1.,   1.,   1.],\n",
      "       [  1.,  nan,   1.,   1.,   1.,   1.],\n",
      "       [  1.,   1.,  nan,   1.,   1.,   1.],\n",
      "       [  1.,   1.,   1.,  nan,   1.,   1.],\n",
      "       [  1.,   1.,   1.,   1.,  nan,   1.],\n",
      "       [  1.,   1.,   1.,   1.,   1.,  nan]]), array([[ nan,  1. ,  1. ,  1. ,  1. ,  0.8],\n",
      "       [ 1. ,  nan,  1. ,  1. ,  1. ,  0.8],\n",
      "       [ 1. ,  1. ,  nan,  1. ,  1. ,  0.8],\n",
      "       [ 1. ,  1. ,  1. ,  nan,  1. ,  0.8],\n",
      "       [ 1. ,  1. ,  1. ,  1. ,  nan,  0.8],\n",
      "       [ 0.8,  0.8,  0.8,  0.8,  0.8,  nan]]), array([[ nan,  1. ,  1. ,  1. ,  1. ,  0.8],\n",
      "       [ 1. ,  nan,  1. ,  1. ,  1. ,  0.8],\n",
      "       [ 1. ,  1. ,  nan,  1. ,  1. ,  0.8],\n",
      "       [ 1. ,  1. ,  1. ,  nan,  1. ,  0.8],\n",
      "       [ 1. ,  1. ,  1. ,  1. ,  nan,  0.8],\n",
      "       [ 0.8,  0.8,  0.8,  0.8,  0.8,  nan]]), array([[ nan,  1. ,  1. ,  1. ,  1. ,  0.8],\n",
      "       [ 1. ,  nan,  1. ,  1. ,  1. ,  0.8],\n",
      "       [ 1. ,  1. ,  nan,  1. ,  1. ,  0.8],\n",
      "       [ 1. ,  1. ,  1. ,  nan,  1. ,  0.8],\n",
      "       [ 1. ,  1. ,  1. ,  1. ,  nan,  0.8],\n",
      "       [ 0.8,  0.8,  0.8,  0.8,  0.8,  nan]]), array([[ nan,  1. ,  1. ,  1. ,  1. ,  0.8],\n",
      "       [ 1. ,  nan,  1. ,  1. ,  1. ,  0.8],\n",
      "       [ 1. ,  1. ,  nan,  1. ,  1. ,  0.8],\n",
      "       [ 1. ,  1. ,  1. ,  nan,  1. ,  0.8],\n",
      "       [ 1. ,  1. ,  1. ,  1. ,  nan,  0.8],\n",
      "       [ 0.8,  0.8,  0.8,  0.8,  0.8,  nan]]), array([[ nan,  1. ,  1. ,  1. ,  1. ,  0.8],\n",
      "       [ 1. ,  nan,  1. ,  1. ,  1. ,  0.8],\n",
      "       [ 1. ,  1. ,  nan,  1. ,  1. ,  0.8],\n",
      "       [ 1. ,  1. ,  1. ,  nan,  1. ,  0.8],\n",
      "       [ 1. ,  1. ,  1. ,  1. ,  nan,  0.8],\n",
      "       [ 0.8,  0.8,  0.8,  0.8,  0.8,  nan]]), array([[ nan,  1. ,  1. ,  1. ,  1. ,  0.8],\n",
      "       [ 1. ,  nan,  1. ,  1. ,  1. ,  0.8],\n",
      "       [ 1. ,  1. ,  nan,  1. ,  1. ,  0.8],\n",
      "       [ 1. ,  1. ,  1. ,  nan,  1. ,  0.8],\n",
      "       [ 1. ,  1. ,  1. ,  1. ,  nan,  0.8],\n",
      "       [ 0.8,  0.8,  0.8,  0.8,  0.8,  nan]]), array([[ nan,   1.,   1.,   1.,   1.,   1.],\n",
      "       [  1.,  nan,   1.,   1.,   1.,   1.],\n",
      "       [  1.,   1.,  nan,   1.,   1.,   1.],\n",
      "       [  1.,   1.,   1.,  nan,   1.,   1.],\n",
      "       [  1.,   1.,   1.,   1.,  nan,   1.],\n",
      "       [  1.,   1.,   1.,   1.,   1.,  nan]]), array([[ nan,   1.,   1.,   1.,   1.,   1.],\n",
      "       [  1.,  nan,   1.,   1.,   1.,   1.],\n",
      "       [  1.,   1.,  nan,   1.,   1.,   1.],\n",
      "       [  1.,   1.,   1.,  nan,   1.,   1.],\n",
      "       [  1.,   1.,   1.,   1.,  nan,   1.],\n",
      "       [  1.,   1.,   1.,   1.,   1.,  nan]]), array([[ nan,   1.,   1.,   1.,   1.,   1.],\n",
      "       [  1.,  nan,   1.,   1.,   1.,   1.],\n",
      "       [  1.,   1.,  nan,   1.,   1.,   1.],\n",
      "       [  1.,   1.,   1.,  nan,   1.,   1.],\n",
      "       [  1.,   1.,   1.,   1.,  nan,   1.],\n",
      "       [  1.,   1.,   1.,   1.,   1.,  nan]])]\n"
     ]
    }
   ],
   "source": [
    "#use the code above to generate the similarity matrixs\n",
    "pairs = tessa(pre_list)\n",
    "Sim_list = []\n",
    "for pair in pairs:\n",
    "    #print(pair[0])\n",
    "    # SM_kb(i,j) = 1 - |p_k(i, j) - p_b(i, j)|\n",
    "    Sim = 1 - np.fabs(pair[0]-pair[1])\n",
    "    #print(Sim)\n",
    "    Sim_list.append(Sim) # a list of all pair of experts' similarity matrixs\n",
    "    \n",
    "print(Sim_list)"
   ]
  },
  {
   "cell_type": "markdown",
   "metadata": {},
   "source": [
    "### 3. evaluate the agreement level\n",
    "#### There are 3 steps of this procedure:\n",
    "* `consensus matrix (pair of alternatives)`: `cp[i,j]= mean(sm_12[i,j], ..., sm_1n[i,j], sm_23[i,j],..., sm_2n[i,j],..., sm_(n-1)n[i,j])`\n",
    "* `each alternatives`: `ca[i] = mean(cm[i,1], ..., cm[i,n])`\n",
    "* `overall agreement`: `cr = mean(ca[i],...,ca[n])`"
   ]
  },
  {
   "cell_type": "markdown",
   "metadata": {},
   "source": [
    "#### ========= pair consensus level ==========\n",
    "For every 'pair' of scores, the consensus level of them is the average of similarity over each similarity matrixs, i.e. the comparation of all pair of experts"
   ]
  },
  {
   "cell_type": "code",
   "execution_count": 181,
   "metadata": {},
   "outputs": [
    {
     "data": {
      "text/plain": [
       "array([[        nan,  1.        ,  0.96      ,  0.88888889,  0.81777778,\n",
       "         0.70666667],\n",
       "       [ 1.        ,         nan,  0.96      ,  0.88888889,  0.81777778,\n",
       "         0.70666667],\n",
       "       [ 0.96      ,  0.96      ,         nan,  0.92888889,  0.85777778,\n",
       "         0.74666667],\n",
       "       [ 0.88888889,  0.88888889,  0.92888889,         nan,  0.92888889,\n",
       "         0.81777778],\n",
       "       [ 0.81777778,  0.81777778,  0.85777778,  0.92888889,         nan,\n",
       "         0.88888889],\n",
       "       [ 0.70666667,  0.70666667,  0.74666667,  0.81777778,  0.88888889,\n",
       "                nan]])"
      ]
     },
     "execution_count": 181,
     "metadata": {},
     "output_type": "execute_result"
    }
   ],
   "source": [
    "# consensus level of pairs \n",
    "cp = sum(Sim_list)/len(Sim_list)\n",
    "cp"
   ]
  },
  {
   "cell_type": "markdown",
   "metadata": {
    "collapsed": true
   },
   "source": [
    "#### ======== alternatives ========\n",
    "Turn the consensus level of pairs of score to each single score. Find all pairs of scores that contains the score `l` in 'pair consensus' matrix (last step), then take the average of them. "
   ]
  },
  {
   "cell_type": "markdown",
   "metadata": {},
   "source": [
    "##### 2. When the 'eye' of the array is 'Nan'\n",
    "Still caculate the mean of pairs containing the score i by just ignore the 'Nan' value. First turn 'Nan' to 0, then reduce the length of the array by 1. "
   ]
  },
  {
   "cell_type": "code",
   "execution_count": 182,
   "metadata": {},
   "outputs": [
    {
     "data": {
      "text/plain": [
       "array([ 0.87466667,  0.87466667,  0.89066667,  0.89066667,  0.86222222,\n",
       "        0.77333333])"
      ]
     },
     "execution_count": 182,
     "metadata": {},
     "output_type": "execute_result"
    }
   ],
   "source": [
    "ca = np.nansum(cp, axis=1)/5\n",
    "ca"
   ]
  },
  {
   "cell_type": "markdown",
   "metadata": {
    "collapsed": true
   },
   "source": [
    "#### ======== over all agreement ========\n",
    "Simply average all level of the alternatives (cp)"
   ]
  },
  {
   "cell_type": "code",
   "execution_count": 183,
   "metadata": {},
   "outputs": [
    {
     "data": {
      "text/plain": [
       "0.86103703703703705"
      ]
     },
     "execution_count": 183,
     "metadata": {},
     "output_type": "execute_result"
    }
   ],
   "source": [
    "cr = np.mean(ca)\n",
    "cr"
   ]
  },
  {
   "cell_type": "code",
   "execution_count": 184,
   "metadata": {},
   "outputs": [],
   "source": [
    "if cr < 0.85:\n",
    "    for c in ca:\n",
    "        if c < cr:\n",
    "            print(c)"
   ]
  },
  {
   "cell_type": "code",
   "execution_count": 185,
   "metadata": {},
   "outputs": [
    {
     "data": {
      "text/plain": [
       "4.0"
      ]
     },
     "execution_count": 185,
     "metadata": {},
     "output_type": "execute_result"
    }
   ],
   "source": [
    "np.mean(exp_scores)"
   ]
  },
  {
   "cell_type": "markdown",
   "metadata": {},
   "source": [
    "## ==================Second Part ==================="
   ]
  },
  {
   "cell_type": "markdown",
   "metadata": {},
   "source": [
    "#### This part is to generate the recommendations if the agreement level is below threshold 0.85\n",
    "The basic idea is that, find the experts whose opinions deviate most from the majority, then suggest them to lower or uppper the scores depending on the deviation dirction. "
   ]
  },
  {
   "cell_type": "markdown",
   "metadata": {},
   "source": [
    "#### ========= collective preference ========\n",
    "represents the average opinion over all experts for each pair of scores. "
   ]
  },
  {
   "cell_type": "code",
   "execution_count": 186,
   "metadata": {},
   "outputs": [
    {
     "data": {
      "text/plain": [
       "array([[  nan,  0.4 ,  0.32,  0.26,  0.2 ,  0.2 ],\n",
       "       [ 0.6 ,   nan,  0.42,  0.36,  0.3 ,  0.3 ],\n",
       "       [ 0.68,  0.58,   nan,  0.44,  0.38,  0.38],\n",
       "       [ 0.74,  0.64,  0.56,   nan,  0.44,  0.44],\n",
       "       [ 0.8 ,  0.7 ,  0.62,  0.56,   nan,  0.5 ],\n",
       "       [ 0.8 ,  0.7 ,  0.62,  0.56,  0.5 ,   nan]])"
      ]
     },
     "execution_count": 186,
     "metadata": {},
     "output_type": "execute_result"
    }
   ],
   "source": [
    "coll = sum(pre_list)/len(pre_list)\n",
    "coll"
   ]
  },
  {
   "cell_type": "markdown",
   "metadata": {},
   "source": [
    "#### ======== proximity values ========\n",
    "For each pair of scores `l & k`, how much does your opinion deviate from the overall opinion (collective preference)? For each expert `i`, his/her preference relation with collective preference pc is:\n",
    "#### `pv_i[l,k] = 1- |p_i[l,k]-coll[l,k]|` \n",
    "So the higher pv, the cloer to the average opinion"
   ]
  },
  {
   "cell_type": "code",
   "execution_count": 187,
   "metadata": {},
   "outputs": [
    {
     "name": "stdout",
     "output_type": "stream",
     "text": [
      "[[[  nan  1.    0.82  0.66  0.5   0.4 ]\n",
      "  [ 1.     nan  0.82  0.66  0.5   0.4 ]\n",
      "  [ 0.82  0.82   nan  0.84  0.68  0.58]\n",
      "  [ 0.66  0.66  0.84   nan  0.84  0.74]\n",
      "  [ 0.5   0.5   0.68  0.84   nan  0.9 ]\n",
      "  [ 0.4   0.4   0.58  0.74  0.9    nan]]\n",
      "\n",
      " [[  nan  1.    0.98  0.86  0.7   0.6 ]\n",
      "  [ 1.     nan  0.98  0.86  0.7   0.6 ]\n",
      "  [ 0.98  0.98   nan  0.84  0.68  0.58]\n",
      "  [ 0.86  0.86  0.84   nan  0.84  0.74]\n",
      "  [ 0.7   0.7   0.68  0.84   nan  0.9 ]\n",
      "  [ 0.6   0.6   0.58  0.74  0.9    nan]]\n",
      "\n",
      " [[  nan  1.    0.98  0.94  0.9   0.8 ]\n",
      "  [ 1.     nan  0.98  0.94  0.9   0.8 ]\n",
      "  [ 0.98  0.98   nan  0.96  0.92  0.82]\n",
      "  [ 0.94  0.94  0.96   nan  0.96  0.86]\n",
      "  [ 0.9   0.9   0.92  0.96   nan  0.9 ]\n",
      "  [ 0.8   0.8   0.82  0.86  0.9    nan]]\n",
      "\n",
      " [[  nan  1.    0.98  0.94  0.9   0.8 ]\n",
      "  [ 1.     nan  0.98  0.94  0.9   0.8 ]\n",
      "  [ 0.98  0.98   nan  0.96  0.92  0.82]\n",
      "  [ 0.94  0.94  0.96   nan  0.96  0.86]\n",
      "  [ 0.9   0.9   0.92  0.96   nan  0.9 ]\n",
      "  [ 0.8   0.8   0.82  0.86  0.9    nan]]\n",
      "\n",
      " [[  nan  1.    0.98  0.94  0.9   0.8 ]\n",
      "  [ 1.     nan  0.98  0.94  0.9   0.8 ]\n",
      "  [ 0.98  0.98   nan  0.96  0.92  0.82]\n",
      "  [ 0.94  0.94  0.96   nan  0.96  0.86]\n",
      "  [ 0.9   0.9   0.92  0.96   nan  0.9 ]\n",
      "  [ 0.8   0.8   0.82  0.86  0.9    nan]]\n",
      "\n",
      " [[  nan  1.    0.98  0.94  0.9   0.8 ]\n",
      "  [ 1.     nan  0.98  0.94  0.9   0.8 ]\n",
      "  [ 0.98  0.98   nan  0.96  0.92  0.82]\n",
      "  [ 0.94  0.94  0.96   nan  0.96  0.86]\n",
      "  [ 0.9   0.9   0.92  0.96   nan  0.9 ]\n",
      "  [ 0.8   0.8   0.82  0.86  0.9    nan]]\n",
      "\n",
      " [[  nan  1.    0.98  0.94  0.9   0.8 ]\n",
      "  [ 1.     nan  0.98  0.94  0.9   0.8 ]\n",
      "  [ 0.98  0.98   nan  0.96  0.92  0.82]\n",
      "  [ 0.94  0.94  0.96   nan  0.96  0.86]\n",
      "  [ 0.9   0.9   0.92  0.96   nan  0.9 ]\n",
      "  [ 0.8   0.8   0.82  0.86  0.9    nan]]\n",
      "\n",
      " [[  nan  1.    0.98  0.94  0.9   1.  ]\n",
      "  [ 1.     nan  0.98  0.94  0.9   1.  ]\n",
      "  [ 0.98  0.98   nan  0.96  0.92  0.98]\n",
      "  [ 0.94  0.94  0.96   nan  0.96  0.94]\n",
      "  [ 0.9   0.9   0.92  0.96   nan  0.9 ]\n",
      "  [ 1.    1.    0.98  0.94  0.9    nan]]\n",
      "\n",
      " [[  nan  1.    0.98  0.94  0.9   1.  ]\n",
      "  [ 1.     nan  0.98  0.94  0.9   1.  ]\n",
      "  [ 0.98  0.98   nan  0.96  0.92  0.98]\n",
      "  [ 0.94  0.94  0.96   nan  0.96  0.94]\n",
      "  [ 0.9   0.9   0.92  0.96   nan  0.9 ]\n",
      "  [ 1.    1.    0.98  0.94  0.9    nan]]\n",
      "\n",
      " [[  nan  1.    0.98  0.94  0.9   1.  ]\n",
      "  [ 1.     nan  0.98  0.94  0.9   1.  ]\n",
      "  [ 0.98  0.98   nan  0.96  0.92  0.98]\n",
      "  [ 0.94  0.94  0.96   nan  0.96  0.94]\n",
      "  [ 0.9   0.9   0.92  0.96   nan  0.9 ]\n",
      "  [ 1.    1.    0.98  0.94  0.9    nan]]]\n"
     ]
    }
   ],
   "source": [
    "pv_list = []\n",
    "for prefer in pre_list:\n",
    "    pv = 1 - np.fabs(prefer - coll)\n",
    "    pv_list.append(pv)\n",
    "pv_list = np.array(pv_list)\n",
    "print (pv_list)"
   ]
  },
  {
   "cell_type": "markdown",
   "metadata": {
    "collapsed": true
   },
   "source": [
    "#### ========= what should change =========\n",
    "The pair of scores whose 'pair consensus level' (cp) plus itself consensus level(ca) that are not enough are identified to be changed."
   ]
  },
  {
   "cell_type": "code",
   "execution_count": 188,
   "metadata": {},
   "outputs": [
    {
     "name": "stdout",
     "output_type": "stream",
     "text": [
      "5 0\n"
     ]
    }
   ],
   "source": [
    "score1 = np.nanargmin(ca)\n",
    "score2 = np.nanargmin(cp[score1,:])\n",
    "\n",
    "print(score1, score2)"
   ]
  },
  {
   "cell_type": "markdown",
   "metadata": {
    "collapsed": true
   },
   "source": [
    "#### ======== who should change =========\n",
    "We now have the pairs that need to be changed. For those pairs, the expert `e(i)` whose preference on them is furthest from collective preference should change the opinion. An average proximity is calcualted to identify the experts. \n",
    "##### `mean(pv_1[l,k], pv_2[l,k], ... , pv_n[l,k])`"
   ]
  },
  {
   "cell_type": "code",
   "execution_count": 189,
   "metadata": {
    "collapsed": true
   },
   "outputs": [],
   "source": [
    "def nlargest(arr, size):\n",
    "    i = 0\n",
    "    nl = []\n",
    "    while i < size:\n",
    "        nl.append(sorted(arr)[i])\n",
    "        i=i+1\n",
    "    return(nl)"
   ]
  },
  {
   "cell_type": "code",
   "execution_count": 190,
   "metadata": {},
   "outputs": [
    {
     "name": "stdout",
     "output_type": "stream",
     "text": [
      "0.8\n"
     ]
    }
   ],
   "source": [
    "avg = pv_list[:, score1, score2].mean()\n",
    "print(avg)\n",
    "deviateExps = [] \n",
    "for exp in range(len(exp_scores)):\n",
    "    if pv_list[exp, score1, score2] < avg:\n",
    "        deviateExps.append(exp)\n",
    "#print(deviateExps)\n",
    "if len(deviateExps) > 0.4*len(exp_scores):\n",
    "    max_ch = int(round(0.4*len(exp_scores)))\n",
    "    dvScores = []\n",
    "    for ep in deviateExps:\n",
    "        dvScores.append(exp_scores[ep])\n",
    "\n",
    "    dvExps = set()\n",
    "    t = 0\n",
    "    for ep in deviateExps:\n",
    "        while t < max_ch:\n",
    "            if exp_scores[ep] in nlargest(dvScores, max_ch):\n",
    "                dvExps.add(ep)\n",
    "            t = t + 1\n",
    "    deviateExps = dvExps\n",
    "    print(dvExps)\n",
    "    \n",
    "    "
   ]
  },
  {
   "cell_type": "code",
   "execution_count": 191,
   "metadata": {},
   "outputs": [
    {
     "data": {
      "text/plain": [
       "4"
      ]
     },
     "execution_count": 191,
     "metadata": {},
     "output_type": "execute_result"
    }
   ],
   "source": [
    "max_ch"
   ]
  },
  {
   "cell_type": "markdown",
   "metadata": {},
   "source": [
    "#### the suggested experts, compare their similarity and the unsuggested experts. "
   ]
  },
  {
   "cell_type": "code",
   "execution_count": 192,
   "metadata": {},
   "outputs": [
    {
     "name": "stdout",
     "output_type": "stream",
     "text": [
      "4.625\n",
      "expert0, your opinion is different from others, would you accept raising your score to 5?\n",
      "expert1, your opinion is different from others, would you accept raising your score to 5?\n",
      "[5, 5, 5, 5, 5, 4, 4, 4]\n"
     ]
    }
   ],
   "source": [
    "aggreScores = [x for ep,x in enumerate(exp_scores) if ep not in deviateExps]\n",
    "agg_avg = sum(aggreScores)/len(aggreScores)\n",
    "print(agg_avg)\n",
    "\n",
    "for ep in deviateExps:\n",
    "    if exp_scores[ep] < agg_avg:\n",
    "        print(\"expert{0}, your opinion\"\n",
    "          \" is different from others, would you accept raising your score to {1}?\"\n",
    "          .format(ep,int(round(agg_avg))))\n",
    "    else:\n",
    "        print(\"expert{0}, your opinion\"\n",
    "          \" is different from others, would you accept lowering your score to {1}?\"\n",
    "          .format(ep,int(round(agg_avg))))\n",
    "print(aggreScores)\n"
   ]
  }
 ],
 "metadata": {
  "kernelspec": {
   "display_name": "Python 2",
   "language": "python",
   "name": "python2"
  },
  "language_info": {
   "codemirror_mode": {
    "name": "ipython",
    "version": 2
   },
   "file_extension": ".py",
   "mimetype": "text/x-python",
   "name": "python",
   "nbconvert_exporter": "python",
   "pygments_lexer": "ipython2",
   "version": "2.7.14"
  }
 },
 "nbformat": 4,
 "nbformat_minor": 2
}
